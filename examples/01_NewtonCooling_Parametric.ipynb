{
 "cells": [
  {
   "cell_type": "markdown",
   "metadata": {},
   "source": [
    "# Newton's Law of Cooling - Parametric Study\n",
    "\n",
    "This notebook demonstrates how to use the Funz-Modelica plugin to perform a parametric study of Newton's law of cooling.\n",
    "\n",
    "## Problem Description\n",
    "\n",
    "Newton's law of cooling states that the rate of heat loss of a body is proportional to the difference in temperature between the body and its surroundings:\n",
    "\n",
    "$$\\frac{dT}{dt} = -h \\cdot A \\cdot (T - T_{\\infty})$$\n",
    "\n",
    "Where:\n",
    "- $T$ is the temperature of the object\n",
    "- $T_{\\infty}$ is the ambient temperature\n",
    "- $h$ is the convective heat transfer coefficient\n",
    "- $A$ is the surface area\n",
    "\n",
    "We will study how different convection coefficients affect the cooling rate."
   ]
  },
  {
   "cell_type": "markdown",
   "metadata": {},
   "source": [
    "## 1. Create the Modelica Model\n",
    "\n",
    "First, we define the Modelica model with a parametric variable `${convection~0.7}` that can be varied by Funz."
   ]
  },
  {
   "cell_type": "code",
   "execution_count": null,
   "metadata": {},
   "outputs": [],
   "source": [
    "# Create the Modelica model file\n",
    "model_content = '''// @ref http://book.xogeny.com/behavior/equations/physical/\n",
    "model NewtonCooling \"An example of Newton's law of cooling\"\n",
    "  parameter Real T_inf=25 \"Ambient temperature\";\n",
    "  parameter Real T0=90 \"Initial temperature\";\n",
    "  parameter Real h=${convection~0.7} \"Convective cooling coefficient\";\n",
    "  parameter Real A=1.0 \"Surface area\";\n",
    "  parameter Real m=0.1 \"Mass of thermal capacitance\";\n",
    "  parameter Real c_p=1.2 \"Specific heat\";\n",
    "  Real T \"Temperature\";\n",
    "initial equation\n",
    "  T = T0 \"Specify initial value for T\";\n",
    "equation\n",
    "  m*c_p*der(T) = h*A*(T_inf-T) \"Newton's law of cooling\";\n",
    "end NewtonCooling;\n",
    "'''\n",
    "\n",
    "# Write model to file\n",
    "with open('NewtonCooling.mo', 'w') as f:\n",
    "    f.write(model_content)\n",
    "\n",
    "print(\"✓ Modelica model created: NewtonCooling.mo\")\n",
    "print(f\"\\nModel has parametric variable: convection (default=0.7)\")"
   ]
  },
  {
   "cell_type": "markdown",
   "metadata": {},
   "source": [
    "## 2. Run Single Simulation\n",
    "\n",
    "Let's start by running a single simulation with the default convection coefficient."
   ]
  },
  {
   "cell_type": "code",
   "execution_count": null,
   "metadata": {},
   "outputs": [],
   "source": [
    "import fz\n",
    "import pandas as pd\n",
    "\n",
    "# Run a single case\n",
    "print(\"Running Newton's cooling model with convection coefficient = 0.7\")\n",
    "results = fz.fzr(\n",
    "    \"NewtonCooling.mo\",\n",
    "    {\"convection\": 0.7},\n",
    "    \"Modelica\",\n",
    "    calculators=\"localhost\",\n",
    "    results_dir=\"results_single\"\n",
    ")\n",
    "\n",
    "print(\"\\n\" + \"=\"*60)\n",
    "print(\"Results:\")\n",
    "print(\"=\"*60)\n",
    "display(results)\n",
    "\n",
    "# Extract and display temperature data\n",
    "if len(results) > 0 and 'res' in results.columns:\n",
    "    res_data = results.iloc[0]['res']['NewtonCooling']\n",
    "    temps = list(res_data['T'].values())\n",
    "    print(f\"\\nTemperature at t=0: {temps[0]:.2f}°C\")\n",
    "    print(f\"Temperature at t=1: {temps[-1]:.2f}°C\")"
   ]
  },
  {
   "cell_type": "markdown",
   "metadata": {},
   "source": [
    "## 3. Parametric Study - Multiple Convection Coefficients\n",
    "\n",
    "Now let's run a parametric study with different convection coefficients to see how they affect cooling."
   ]
  },
  {
   "cell_type": "code",
   "execution_count": null,
   "metadata": {},
   "outputs": [],
   "source": [
    "# Run parametric study\n",
    "print(\"Running parametric study with multiple convection coefficients...\")\n",
    "convection_values = [0.1, 0.3, 0.5, 0.7, 0.9, 1.2, 1.5]\n",
    "\n",
    "results_parametric = fz.fzr(\n",
    "    \"NewtonCooling.mo\",\n",
    "    {\"convection\": convection_values},\n",
    "    \"Modelica\",\n",
    "    calculators=\"localhost\",\n",
    "    results_dir=\"results_parametric\"\n",
    ")\n",
    "\n",
    "print(\"\\nResults summary:\")\n",
    "display(results_parametric[['convection', 'status']])"
   ]
  },
  {
   "cell_type": "markdown",
   "metadata": {},
   "source": [
    "## 4. Visualize Results\n",
    "\n",
    "Let's plot the temperature curves for different convection coefficients."
   ]
  },
  {
   "cell_type": "code",
   "execution_count": null,
   "metadata": {},
   "outputs": [],
   "source": [
    "import matplotlib.pyplot as plt\n",
    "import numpy as np\n",
    "\n",
    "plt.figure(figsize=(12, 7))\n",
    "\n",
    "# Plot temperature vs time for each case\n",
    "for idx, row in results_parametric.iterrows():\n",
    "    if row['status'] == 'done' and 'res' in row:\n",
    "        convection = row['convection']\n",
    "        res_data = row['res']['NewtonCooling']\n",
    "        time = list(res_data['time'].values())\n",
    "        temp = list(res_data['T'].values())\n",
    "        plt.plot(time, temp, marker='o', markersize=4, linewidth=2, \n",
    "                label=f'h={convection}', alpha=0.8)\n",
    "\n",
    "plt.xlabel('Time (s)', fontsize=12)\n",
    "plt.ylabel('Temperature (°C)', fontsize=12)\n",
    "plt.title(\"Newton's Law of Cooling - Effect of Convection Coefficient\", fontsize=14, fontweight='bold')\n",
    "plt.legend(title='Convection Coefficient', fontsize=10)\n",
    "plt.grid(True, alpha=0.3)\n",
    "plt.tight_layout()\n",
    "plt.savefig('cooling_curves.png', dpi=150, bbox_inches='tight')\n",
    "plt.show()\n",
    "\n",
    "print(\"\\n✓ Plot saved as 'cooling_curves.png'\")"
   ]
  },
  {
   "cell_type": "markdown",
   "metadata": {},
   "source": [
    "## 5. Analysis - Cooling Rate\n",
    "\n",
    "Let's analyze how the convection coefficient affects the final temperature reached."
   ]
  },
  {
   "cell_type": "code",
   "execution_count": null,
   "metadata": {},
   "outputs": [],
   "source": [
    "# Extract final temperatures\n",
    "analysis_data = []\n",
    "for idx, row in results_parametric.iterrows():\n",
    "    if row['status'] == 'done' and 'res' in row:\n",
    "        convection = row['convection']\n",
    "        res_data = row['res']['NewtonCooling']\n",
    "        temps = list(res_data['T'].values())\n",
    "        final_temp = temps[-1]\n",
    "        initial_temp = temps[0]\n",
    "        temp_drop = initial_temp - final_temp\n",
    "        \n",
    "        analysis_data.append({\n",
    "            'convection': convection,\n",
    "            'initial_temp': initial_temp,\n",
    "            'final_temp': final_temp,\n",
    "            'temp_drop': temp_drop,\n",
    "            'cooling_percent': (temp_drop / (initial_temp - 25)) * 100\n",
    "        })\n",
    "\n",
    "analysis_df = pd.DataFrame(analysis_data)\n",
    "print(\"\\nCooling Analysis:\")\n",
    "print(\"=\"*80)\n",
    "display(analysis_df)\n",
    "\n",
    "# Plot cooling efficiency\n",
    "fig, (ax1, ax2) = plt.subplots(1, 2, figsize=(14, 5))\n",
    "\n",
    "# Final temperature vs convection\n",
    "ax1.plot(analysis_df['convection'], analysis_df['final_temp'], 'o-', linewidth=2, markersize=8)\n",
    "ax1.axhline(y=25, color='r', linestyle='--', label='Ambient temp (25°C)')\n",
    "ax1.set_xlabel('Convection Coefficient (h)', fontsize=11)\n",
    "ax1.set_ylabel('Final Temperature (°C)', fontsize=11)\n",
    "ax1.set_title('Final Temperature vs Convection', fontweight='bold')\n",
    "ax1.grid(True, alpha=0.3)\n",
    "ax1.legend()\n",
    "\n",
    "# Cooling percentage vs convection\n",
    "ax2.plot(analysis_df['convection'], analysis_df['cooling_percent'], 's-', \n",
    "         linewidth=2, markersize=8, color='green')\n",
    "ax2.set_xlabel('Convection Coefficient (h)', fontsize=11)\n",
    "ax2.set_ylabel('Cooling Progress (%)', fontsize=11)\n",
    "ax2.set_title('Cooling Efficiency vs Convection', fontweight='bold')\n",
    "ax2.grid(True, alpha=0.3)\n",
    "ax2.set_ylim([0, 105])\n",
    "\n",
    "plt.tight_layout()\n",
    "plt.savefig('cooling_analysis.png', dpi=150, bbox_inches='tight')\n",
    "plt.show()\n",
    "\n",
    "print(\"\\n✓ Analysis plot saved as 'cooling_analysis.png'\")"
   ]
  },
  {
   "cell_type": "markdown",
   "metadata": {},
   "source": [
    "## 6. Key Findings\n",
    "\n",
    "From this parametric study, we observe:\n",
    "\n",
    "1. **Higher convection coefficient = Faster cooling**: Objects cool more rapidly with higher h values\n",
    "2. **Exponential approach**: All curves show exponential decay toward ambient temperature\n",
    "3. **Asymptotic behavior**: Temperature approaches but never quite reaches ambient temperature in finite time\n",
    "4. **Diminishing returns**: Very high convection coefficients show diminishing improvement\n",
    "\n",
    "## Next Steps\n",
    "\n",
    "Try modifying:\n",
    "- Initial temperature (T0)\n",
    "- Ambient temperature (T_inf)\n",
    "- Mass and specific heat (m, c_p)\n",
    "- Surface area (A)"
   ]
  }
 ],
 "metadata": {
  "kernelspec": {
   "display_name": "Python 3",
   "language": "python",
   "name": "python3"
  },
  "language_info": {
   "codemirror_mode": {
    "name": "ipython",
    "version": 3
   },
   "file_extension": ".py",
   "mimetype": "text/x-python",
   "name": "python",
   "nbconvert_exporter": "python",
   "pygments_lexer": "ipython3",
   "version": "3.8.0"
  }
 },
 "nbformat": 4,
 "nbformat_minor": 4
}
